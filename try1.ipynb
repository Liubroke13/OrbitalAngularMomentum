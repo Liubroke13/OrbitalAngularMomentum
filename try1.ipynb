version https://git-lfs.github.com/spec/v1
oid sha256:af6cebfcbe2d11b597d4b300775bb8d725bdfa12c5e8a21ebfd40ca9fc560d81
size 2946049
