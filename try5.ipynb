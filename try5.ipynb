version https://git-lfs.github.com/spec/v1
oid sha256:0b5a7538f8a06238d587e0d1e9b04143d71b6e23774e198d539763eb64fe0993
size 1136448
