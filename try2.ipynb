version https://git-lfs.github.com/spec/v1
oid sha256:e48a7d11c3cd9cf5bd2412f42c25cac7c65aa5dcd0ae1a54ceb2c8ceb144c38b
size 646760
