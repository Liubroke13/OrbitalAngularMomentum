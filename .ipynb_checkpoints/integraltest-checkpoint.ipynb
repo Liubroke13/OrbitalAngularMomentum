version https://git-lfs.github.com/spec/v1
oid sha256:073dda442ba13c6c51227346e69eb7c95edb2d9e9881700fb6eee19b13632f0b
size 8730
