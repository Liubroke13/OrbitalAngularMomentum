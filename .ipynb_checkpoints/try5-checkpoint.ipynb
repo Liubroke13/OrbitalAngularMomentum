version https://git-lfs.github.com/spec/v1
oid sha256:6db93217f06a0a89f9494a3688ca23c12ff34c0cc818afa1a8f333c3cebf3aa7
size 1539381
