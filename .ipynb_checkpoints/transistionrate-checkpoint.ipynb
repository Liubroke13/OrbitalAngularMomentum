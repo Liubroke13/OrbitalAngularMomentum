version https://git-lfs.github.com/spec/v1
oid sha256:fdcb82f5cbef0c86b612a3fe64a236536cb90536de73974aac727cb16daf85f5
size 4594939
