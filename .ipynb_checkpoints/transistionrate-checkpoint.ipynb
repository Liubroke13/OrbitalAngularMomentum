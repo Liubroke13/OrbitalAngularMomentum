version https://git-lfs.github.com/spec/v1
oid sha256:06b10a7790674bbe3d83be065c2a6b7f45a68aefb8e3176427ed2117c28afcf5
size 4595106
