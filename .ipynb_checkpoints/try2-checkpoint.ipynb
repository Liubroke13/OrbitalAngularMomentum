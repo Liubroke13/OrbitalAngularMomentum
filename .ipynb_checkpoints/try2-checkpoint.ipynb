version https://git-lfs.github.com/spec/v1
oid sha256:006c7cbbe58046186c743168d316d65c19b76030e11c042b99fc45ef2e061503
size 1141727
