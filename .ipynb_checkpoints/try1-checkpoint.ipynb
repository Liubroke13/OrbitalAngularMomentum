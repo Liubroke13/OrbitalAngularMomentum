version https://git-lfs.github.com/spec/v1
oid sha256:25cdc63d5b1ace7087d980a42e6e309cac1e56f9bf2e86623ed1013a09875c1e
size 2890074
