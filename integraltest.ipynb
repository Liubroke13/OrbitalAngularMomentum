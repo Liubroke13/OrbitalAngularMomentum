version https://git-lfs.github.com/spec/v1
oid sha256:0ac903041d9ba0fc2eb302fb3ebb37a3874b960b87543bc5dfe4db38cc6fe90e
size 12610
