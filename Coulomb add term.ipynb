version https://git-lfs.github.com/spec/v1
oid sha256:2aff8c171600b257325f177f9f6eba13023c4d4daf9e6b14a58a25474e523621
size 437863
