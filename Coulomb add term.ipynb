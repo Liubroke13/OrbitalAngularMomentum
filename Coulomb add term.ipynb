version https://git-lfs.github.com/spec/v1
oid sha256:13f0ebb4f28a1662100cfefdb539b34a013fafd65372aa2dfeb830bd6f9187a2
size 437978
