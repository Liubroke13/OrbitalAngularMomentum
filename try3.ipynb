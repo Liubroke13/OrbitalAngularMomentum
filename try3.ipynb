version https://git-lfs.github.com/spec/v1
oid sha256:2b44d779987b9e2b1d0504b8a2978d69c9aa13873d49346befbdea294850a07c
size 1994367
